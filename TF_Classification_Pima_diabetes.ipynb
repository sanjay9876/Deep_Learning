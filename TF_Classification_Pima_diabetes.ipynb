{
  "nbformat": 4,
  "nbformat_minor": 0,
  "metadata": {
    "kernelspec": {
      "display_name": "Python 3",
      "language": "python",
      "name": "python3"
    },
    "language_info": {
      "codemirror_mode": {
        "name": "ipython",
        "version": 3
      },
      "file_extension": ".py",
      "mimetype": "text/x-python",
      "name": "python",
      "nbconvert_exporter": "python",
      "pygments_lexer": "ipython3",
      "version": "3.7.6"
    },
    "colab": {
      "name": "DL_1_Pima_diabetes.ipynb",
      "provenance": [],
      "collapsed_sections": []
    }
  },
  "cells": [
    {
      "cell_type": "code",
      "metadata": {
        "id": "Qh13TqH6RImG"
      },
      "source": [
        "import numpy as np\n",
        "from sklearn import metrics"
      ],
      "execution_count": 1,
      "outputs": []
    },
    {
      "cell_type": "code",
      "metadata": {
        "colab": {
          "resources": {
            "http://localhost:8080/nbextensions/google.colab/files.js": {
              "data": "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",
              "ok": true,
              "headers": [
                [
                  "content-type",
                  "application/javascript"
                ]
              ],
              "status": 200,
              "status_text": ""
            }
          },
          "base_uri": "https://localhost:8080/",
          "height": 73
        },
        "id": "9kuw-9RzRLW7",
        "outputId": "0c8c4524-03b2-409e-bd84-16dd4328cde5"
      },
      "source": [
        "from google.colab import files\r\n",
        "uploaded = files.upload()"
      ],
      "execution_count": 2,
      "outputs": [
        {
          "output_type": "display_data",
          "data": {
            "text/html": [
              "\n",
              "     <input type=\"file\" id=\"files-07623dc8-9e6b-4c66-83ed-3654a27b453d\" name=\"files[]\" multiple disabled\n",
              "        style=\"border:none\" />\n",
              "     <output id=\"result-07623dc8-9e6b-4c66-83ed-3654a27b453d\">\n",
              "      Upload widget is only available when the cell has been executed in the\n",
              "      current browser session. Please rerun this cell to enable.\n",
              "      </output>\n",
              "      <script src=\"/nbextensions/google.colab/files.js\"></script> "
            ],
            "text/plain": [
              "<IPython.core.display.HTML object>"
            ]
          },
          "metadata": {
            "tags": []
          }
        },
        {
          "output_type": "stream",
          "text": [
            "Saving pima-indians-diabetes.csv to pima-indians-diabetes.csv\n"
          ],
          "name": "stdout"
        }
      ]
    },
    {
      "cell_type": "code",
      "metadata": {
        "colab": {
          "base_uri": "https://localhost:8080/"
        },
        "id": "JHSee_8CRImN",
        "outputId": "42e13d20-f1e7-4ad8-dadb-0e03b065cf5d"
      },
      "source": [
        "raw_data = open(\"pima-indians-diabetes.csv\")\n",
        "# load the CSV file as a numpy matrix\n",
        "dataset = np.loadtxt(raw_data, delimiter=\",\")\n",
        "print(dataset.shape)\n",
        "# separate the data from the target attributes\n",
        "X = dataset[:,0:7]\n",
        "y = dataset[:,8]\n",
        "print(X)\n",
        "print(y)"
      ],
      "execution_count": 4,
      "outputs": [
        {
          "output_type": "stream",
          "text": [
            "(768, 9)\n",
            "[[  6.    148.     72.    ...   0.     33.6     0.627]\n",
            " [  1.     85.     66.    ...   0.     26.6     0.351]\n",
            " [  8.    183.     64.    ...   0.     23.3     0.672]\n",
            " ...\n",
            " [  5.    121.     72.    ... 112.     26.2     0.245]\n",
            " [  1.    126.     60.    ...   0.     30.1     0.349]\n",
            " [  1.     93.     70.    ...   0.     30.4     0.315]]\n",
            "[1. 0. 1. 0. 1. 0. 1. 0. 1. 1. 0. 1. 0. 1. 1. 1. 1. 1. 0. 1. 0. 0. 1. 1.\n",
            " 1. 1. 1. 0. 0. 0. 0. 1. 0. 0. 0. 0. 0. 1. 1. 1. 0. 0. 0. 1. 0. 1. 0. 0.\n",
            " 1. 0. 0. 0. 0. 1. 0. 0. 1. 0. 0. 0. 0. 1. 0. 0. 1. 0. 1. 0. 0. 0. 1. 0.\n",
            " 1. 0. 0. 0. 0. 0. 1. 0. 0. 0. 0. 0. 1. 0. 0. 0. 1. 0. 0. 0. 0. 1. 0. 0.\n",
            " 0. 0. 0. 1. 1. 0. 0. 0. 0. 0. 0. 0. 0. 1. 1. 1. 0. 0. 1. 1. 1. 0. 0. 0.\n",
            " 1. 0. 0. 0. 1. 1. 0. 0. 1. 1. 1. 1. 1. 0. 0. 0. 0. 0. 0. 0. 0. 0. 0. 1.\n",
            " 0. 0. 0. 0. 0. 0. 0. 0. 1. 0. 1. 1. 0. 0. 0. 1. 0. 0. 0. 0. 1. 1. 0. 0.\n",
            " 0. 0. 1. 1. 0. 0. 0. 1. 0. 1. 0. 1. 0. 0. 0. 0. 0. 1. 1. 1. 1. 1. 0. 0.\n",
            " 1. 1. 0. 1. 0. 1. 1. 1. 0. 0. 0. 0. 0. 0. 1. 1. 0. 1. 0. 0. 0. 1. 1. 1.\n",
            " 1. 0. 1. 1. 1. 1. 0. 0. 0. 0. 0. 1. 0. 0. 1. 1. 0. 0. 0. 1. 1. 1. 1. 0.\n",
            " 0. 0. 1. 1. 0. 1. 0. 0. 0. 0. 0. 0. 0. 0. 1. 1. 0. 0. 0. 1. 0. 1. 0. 0.\n",
            " 1. 0. 1. 0. 0. 1. 1. 0. 0. 0. 0. 0. 1. 0. 0. 0. 1. 0. 0. 1. 1. 0. 0. 1.\n",
            " 0. 0. 0. 1. 1. 1. 0. 0. 1. 0. 1. 0. 1. 1. 0. 1. 0. 0. 1. 0. 1. 1. 0. 0.\n",
            " 1. 0. 1. 0. 0. 1. 0. 1. 0. 1. 1. 1. 0. 0. 1. 0. 1. 0. 0. 0. 1. 0. 0. 0.\n",
            " 0. 1. 1. 1. 0. 0. 0. 0. 0. 0. 0. 0. 0. 1. 0. 0. 0. 0. 0. 1. 1. 1. 0. 1.\n",
            " 1. 0. 0. 1. 0. 0. 1. 0. 0. 1. 1. 0. 0. 0. 0. 1. 0. 0. 1. 0. 0. 0. 0. 0.\n",
            " 0. 0. 1. 1. 1. 0. 0. 1. 0. 0. 1. 0. 0. 1. 0. 1. 1. 0. 1. 0. 1. 0. 1. 0.\n",
            " 1. 1. 0. 0. 0. 0. 1. 1. 0. 1. 0. 1. 0. 0. 0. 0. 1. 1. 0. 1. 0. 1. 0. 0.\n",
            " 0. 0. 0. 1. 0. 0. 0. 0. 1. 0. 0. 1. 1. 1. 0. 0. 1. 0. 0. 1. 0. 0. 0. 1.\n",
            " 0. 0. 1. 0. 0. 0. 0. 0. 0. 0. 0. 0. 1. 0. 0. 0. 0. 0. 0. 0. 1. 0. 0. 0.\n",
            " 1. 0. 0. 0. 1. 1. 0. 0. 0. 0. 0. 0. 0. 1. 0. 0. 0. 0. 1. 0. 0. 0. 1. 0.\n",
            " 0. 0. 1. 0. 0. 0. 1. 0. 0. 0. 0. 1. 1. 0. 0. 0. 0. 0. 0. 1. 0. 0. 0. 0.\n",
            " 0. 0. 0. 0. 0. 0. 0. 1. 0. 0. 0. 1. 1. 1. 1. 0. 0. 1. 1. 0. 0. 0. 0. 0.\n",
            " 0. 0. 0. 0. 0. 0. 0. 0. 1. 1. 0. 0. 0. 0. 0. 0. 0. 1. 0. 0. 0. 0. 0. 0.\n",
            " 0. 1. 0. 1. 1. 0. 0. 0. 1. 0. 1. 0. 1. 0. 1. 0. 1. 0. 0. 1. 0. 0. 1. 0.\n",
            " 0. 0. 0. 1. 1. 0. 1. 0. 0. 0. 0. 1. 1. 0. 1. 0. 0. 0. 1. 1. 0. 0. 0. 0.\n",
            " 0. 0. 0. 0. 0. 0. 1. 0. 0. 0. 0. 1. 0. 0. 1. 0. 0. 0. 1. 0. 0. 0. 1. 1.\n",
            " 1. 0. 0. 0. 0. 0. 0. 1. 0. 0. 0. 1. 0. 1. 1. 1. 1. 0. 1. 1. 0. 0. 0. 0.\n",
            " 0. 0. 0. 1. 1. 0. 1. 0. 0. 1. 0. 1. 0. 0. 0. 0. 0. 1. 0. 1. 0. 1. 0. 1.\n",
            " 1. 0. 0. 0. 0. 1. 1. 0. 0. 0. 1. 0. 1. 1. 0. 0. 1. 0. 0. 1. 1. 0. 0. 1.\n",
            " 0. 0. 1. 0. 0. 0. 0. 0. 0. 0. 1. 1. 1. 0. 0. 0. 0. 0. 0. 1. 1. 0. 0. 1.\n",
            " 0. 0. 1. 0. 1. 1. 1. 0. 0. 1. 1. 1. 0. 1. 0. 1. 0. 1. 0. 0. 0. 0. 1. 0.]\n"
          ],
          "name": "stdout"
        }
      ]
    },
    {
      "cell_type": "code",
      "metadata": {
        "colab": {
          "base_uri": "https://localhost:8080/",
          "height": 160
        },
        "id": "pEeycfYiRImO",
        "outputId": "c663b90a-b4f5-4dba-a07b-6a36c2ac778d"
      },
      "source": [
        "\"\"\"\n",
        "5. Number of Instances: 768\n",
        "\n",
        "6. Number of Attributes: 8 plus class \n",
        "\n",
        "7. For Each Attribute: (all numeric-valued)\n",
        "   1. Number of times pregnant\n",
        "   2. Plasma glucose concentration a 2 hours in an oral glucose tolerance test\n",
        "   3. Diastolic blood pressure (mm Hg)\n",
        "   4. Triceps skin fold thickness (mm)\n",
        "   5. 2-Hour serum insulin (mu U/ml)\n",
        "   6. Body mass index (weight in kg/(height in m)^2)\n",
        "   7. Diabetes pedigree function\n",
        "   8. Age (years)\n",
        "   9. Class variable (0 or 1)\n",
        "\n",
        "8. Missing Attribute Values: Yes\n",
        "\n",
        "9. Class Distribution: (class value 1 is interpreted as \"tested positive for\n",
        "   diabetes\")\n",
        "\n",
        "   Class Value  Number of instances\n",
        "   0            500\n",
        "   1            268\n",
        "\n",
        "10. Brief statistical analysis:\n",
        "\n",
        "    Attribute number:    Mean:   Standard Deviation:\n",
        "    1.                     3.8     3.4\n",
        "    2.                   120.9    32.0\n",
        "    3.                    69.1    19.4\n",
        "    4.                    20.5    16.0\n",
        "    5.                    79.8   115.2\n",
        "    6.                    32.0     7.9\n",
        "    7.                     0.5     0.3\n",
        "    8.                    33.2    11.8\n",
        "\"\"\""
      ],
      "execution_count": 5,
      "outputs": [
        {
          "output_type": "execute_result",
          "data": {
            "application/vnd.google.colaboratory.intrinsic+json": {
              "type": "string"
            },
            "text/plain": [
              "'\\n5. Number of Instances: 768\\n\\n6. Number of Attributes: 8 plus class \\n\\n7. For Each Attribute: (all numeric-valued)\\n   1. Number of times pregnant\\n   2. Plasma glucose concentration a 2 hours in an oral glucose tolerance test\\n   3. Diastolic blood pressure (mm Hg)\\n   4. Triceps skin fold thickness (mm)\\n   5. 2-Hour serum insulin (mu U/ml)\\n   6. Body mass index (weight in kg/(height in m)^2)\\n   7. Diabetes pedigree function\\n   8. Age (years)\\n   9. Class variable (0 or 1)\\n\\n8. Missing Attribute Values: Yes\\n\\n9. Class Distribution: (class value 1 is interpreted as \"tested positive for\\n   diabetes\")\\n\\n   Class Value  Number of instances\\n   0            500\\n   1            268\\n\\n10. Brief statistical analysis:\\n\\n    Attribute number:    Mean:   Standard Deviation:\\n    1.                     3.8     3.4\\n    2.                   120.9    32.0\\n    3.                    69.1    19.4\\n    4.                    20.5    16.0\\n    5.                    79.8   115.2\\n    6.                    32.0     7.9\\n    7.                     0.5     0.3\\n    8.                    33.2    11.8\\n'"
            ]
          },
          "metadata": {
            "tags": []
          },
          "execution_count": 5
        }
      ]
    },
    {
      "cell_type": "code",
      "metadata": {
        "colab": {
          "base_uri": "https://localhost:8080/"
        },
        "id": "xN3QIpzwRImP",
        "outputId": "39fcfe50-320d-43c2-cbea-e485bea90f19"
      },
      "source": [
        "# Logistic Regression\n",
        "from sklearn.linear_model import LogisticRegression\n",
        "# fit a logistic regression model to the data\n",
        "model = LogisticRegression(max_iter=1000)\n",
        "model.fit(X,y)\n",
        "print(model)\n",
        "# make predictions\n",
        "predicted = model.predict(X)\n",
        "# summarize the fit of the model\n",
        "print(metrics.classification_report(y, predicted))\n",
        "print(metrics.confusion_matrix(y, predicted))"
      ],
      "execution_count": 6,
      "outputs": [
        {
          "output_type": "stream",
          "text": [
            "LogisticRegression(C=1.0, class_weight=None, dual=False, fit_intercept=True,\n",
            "                   intercept_scaling=1, l1_ratio=None, max_iter=1000,\n",
            "                   multi_class='auto', n_jobs=None, penalty='l2',\n",
            "                   random_state=None, solver='lbfgs', tol=0.0001, verbose=0,\n",
            "                   warm_start=False)\n",
            "              precision    recall  f1-score   support\n",
            "\n",
            "         0.0       0.79      0.89      0.84       500\n",
            "         1.0       0.73      0.56      0.64       268\n",
            "\n",
            "    accuracy                           0.77       768\n",
            "   macro avg       0.76      0.73      0.74       768\n",
            "weighted avg       0.77      0.77      0.77       768\n",
            "\n",
            "[[444  56]\n",
            " [117 151]]\n"
          ],
          "name": "stdout"
        }
      ]
    },
    {
      "cell_type": "code",
      "metadata": {
        "colab": {
          "base_uri": "https://localhost:8080/"
        },
        "id": "WvVn3eikRImQ",
        "outputId": "df3f200c-bcc1-49b0-a984-665af0a0a32e"
      },
      "source": [
        "# Knn- classification\n",
        "# k-Nearest Neighbor Classification\n",
        "from sklearn.neighbors import KNeighborsClassifier\n",
        "model = KNeighborsClassifier()\n",
        "model.fit(X,y)\n",
        "print(model)\n",
        "# make predictions\n",
        "predicted = model.predict(X)\n",
        "# summarize the fit of the model\n",
        "print(metrics.classification_report(y, predicted))\n",
        "print(metrics.confusion_matrix(y, predicted))"
      ],
      "execution_count": 7,
      "outputs": [
        {
          "output_type": "stream",
          "text": [
            "KNeighborsClassifier(algorithm='auto', leaf_size=30, metric='minkowski',\n",
            "                     metric_params=None, n_jobs=None, n_neighbors=5, p=2,\n",
            "                     weights='uniform')\n",
            "              precision    recall  f1-score   support\n",
            "\n",
            "         0.0       0.82      0.90      0.86       500\n",
            "         1.0       0.77      0.63      0.69       268\n",
            "\n",
            "    accuracy                           0.80       768\n",
            "   macro avg       0.79      0.77      0.78       768\n",
            "weighted avg       0.80      0.80      0.80       768\n",
            "\n",
            "[[448  52]\n",
            " [ 98 170]]\n"
          ],
          "name": "stdout"
        }
      ]
    },
    {
      "cell_type": "code",
      "metadata": {
        "id": "TM56-IMYRImQ"
      },
      "source": [
        "# import Keras libraries\n",
        "from keras.models import Sequential\n",
        "from keras.layers import Dense\n",
        "import numpy\n",
        "# fix random seed for reproducibility\n",
        "numpy.random.seed(7)"
      ],
      "execution_count": 8,
      "outputs": []
    },
    {
      "cell_type": "code",
      "metadata": {
        "id": "Ruru4LZkRImR"
      },
      "source": [
        "# load pima indians dataset\n",
        "dataset = numpy.loadtxt(\"pima-indians-diabetes.csv\", delimiter=\",\")\n",
        "# split into input (X) and output (Y) variables\n",
        "X = dataset[:,0:8]\n",
        "Y = dataset[:,8]"
      ],
      "execution_count": 10,
      "outputs": []
    },
    {
      "cell_type": "code",
      "metadata": {
        "id": "rDr3y9yQRImR"
      },
      "source": [
        "# create model\n",
        "# input_dim = 8 for 8 input variables\n",
        "# Specify the neural network model sequentially\n",
        "model = Sequential()\n",
        "model.add(Dense(20, input_dim=8, activation='relu')) # 12 neurons\n",
        "model.add(Dense(10, activation='relu')) # 8 neurons\n",
        "model.add(Dense(1, activation='sigmoid'))\n",
        "# Sigmoid to get an output between 0 and 1"
      ],
      "execution_count": 11,
      "outputs": []
    },
    {
      "cell_type": "code",
      "metadata": {
        "colab": {
          "base_uri": "https://localhost:8080/"
        },
        "id": "fCXr2xEURImS",
        "outputId": "bce17547-886a-45ba-9302-7152580a19f1"
      },
      "source": [
        "# Compile model\n",
        "model.compile(loss='binary_crossentropy', optimizer='adam', metrics=['accuracy'])\n",
        "# Fit the model\n",
        "model.fit(X, Y, epochs=100, batch_size=10) # 500\n",
        "# epochs = number of iterations"
      ],
      "execution_count": 12,
      "outputs": [
        {
          "output_type": "stream",
          "text": [
            "Epoch 1/100\n",
            "77/77 [==============================] - 1s 1ms/step - loss: 13.0655 - accuracy: 0.6082\n",
            "Epoch 2/100\n",
            "77/77 [==============================] - 0s 1ms/step - loss: 1.8748 - accuracy: 0.6100\n",
            "Epoch 3/100\n",
            "77/77 [==============================] - 0s 1ms/step - loss: 1.2302 - accuracy: 0.5953\n",
            "Epoch 4/100\n",
            "77/77 [==============================] - 0s 1ms/step - loss: 0.7827 - accuracy: 0.6655\n",
            "Epoch 5/100\n",
            "77/77 [==============================] - 0s 1ms/step - loss: 0.7488 - accuracy: 0.6400\n",
            "Epoch 6/100\n",
            "77/77 [==============================] - 0s 1ms/step - loss: 0.6854 - accuracy: 0.6671\n",
            "Epoch 7/100\n",
            "77/77 [==============================] - 0s 1ms/step - loss: 0.6678 - accuracy: 0.6634\n",
            "Epoch 8/100\n",
            "77/77 [==============================] - 0s 1ms/step - loss: 0.6446 - accuracy: 0.6794\n",
            "Epoch 9/100\n",
            "77/77 [==============================] - 0s 1ms/step - loss: 0.6878 - accuracy: 0.6319\n",
            "Epoch 10/100\n",
            "77/77 [==============================] - 0s 1ms/step - loss: 0.6407 - accuracy: 0.6891\n",
            "Epoch 11/100\n",
            "77/77 [==============================] - 0s 1ms/step - loss: 0.7007 - accuracy: 0.6234\n",
            "Epoch 12/100\n",
            "77/77 [==============================] - 0s 1ms/step - loss: 0.6830 - accuracy: 0.6669\n",
            "Epoch 13/100\n",
            "77/77 [==============================] - 0s 1ms/step - loss: 0.6409 - accuracy: 0.6627\n",
            "Epoch 14/100\n",
            "77/77 [==============================] - 0s 1ms/step - loss: 0.6237 - accuracy: 0.6707\n",
            "Epoch 15/100\n",
            "77/77 [==============================] - 0s 1ms/step - loss: 0.5972 - accuracy: 0.7010\n",
            "Epoch 16/100\n",
            "77/77 [==============================] - 0s 1ms/step - loss: 0.6016 - accuracy: 0.6970\n",
            "Epoch 17/100\n",
            "77/77 [==============================] - 0s 1ms/step - loss: 0.6203 - accuracy: 0.6693\n",
            "Epoch 18/100\n",
            "77/77 [==============================] - 0s 1ms/step - loss: 0.6086 - accuracy: 0.6994\n",
            "Epoch 19/100\n",
            "77/77 [==============================] - 0s 1ms/step - loss: 0.6553 - accuracy: 0.6533\n",
            "Epoch 20/100\n",
            "77/77 [==============================] - 0s 1ms/step - loss: 0.6321 - accuracy: 0.6824\n",
            "Epoch 21/100\n",
            "77/77 [==============================] - 0s 1ms/step - loss: 0.5744 - accuracy: 0.6997\n",
            "Epoch 22/100\n",
            "77/77 [==============================] - 0s 1ms/step - loss: 0.5753 - accuracy: 0.6857\n",
            "Epoch 23/100\n",
            "77/77 [==============================] - 0s 1ms/step - loss: 0.5573 - accuracy: 0.7132\n",
            "Epoch 24/100\n",
            "77/77 [==============================] - 0s 1ms/step - loss: 0.5778 - accuracy: 0.7175\n",
            "Epoch 25/100\n",
            "77/77 [==============================] - 0s 1ms/step - loss: 0.5688 - accuracy: 0.7069\n",
            "Epoch 26/100\n",
            "77/77 [==============================] - 0s 1ms/step - loss: 0.5908 - accuracy: 0.6876\n",
            "Epoch 27/100\n",
            "77/77 [==============================] - 0s 1ms/step - loss: 0.5491 - accuracy: 0.7271\n",
            "Epoch 28/100\n",
            "77/77 [==============================] - 0s 1ms/step - loss: 0.5987 - accuracy: 0.6838\n",
            "Epoch 29/100\n",
            "77/77 [==============================] - 0s 1ms/step - loss: 0.5573 - accuracy: 0.7190\n",
            "Epoch 30/100\n",
            "77/77 [==============================] - 0s 1ms/step - loss: 0.5596 - accuracy: 0.7146\n",
            "Epoch 31/100\n",
            "77/77 [==============================] - 0s 1ms/step - loss: 0.5896 - accuracy: 0.7148\n",
            "Epoch 32/100\n",
            "77/77 [==============================] - 0s 1ms/step - loss: 0.5878 - accuracy: 0.7072\n",
            "Epoch 33/100\n",
            "77/77 [==============================] - 0s 1ms/step - loss: 0.5656 - accuracy: 0.7301\n",
            "Epoch 34/100\n",
            "77/77 [==============================] - 0s 1ms/step - loss: 0.5778 - accuracy: 0.7202\n",
            "Epoch 35/100\n",
            "77/77 [==============================] - 0s 1ms/step - loss: 0.5648 - accuracy: 0.7014\n",
            "Epoch 36/100\n",
            "77/77 [==============================] - 0s 1ms/step - loss: 0.5753 - accuracy: 0.7254\n",
            "Epoch 37/100\n",
            "77/77 [==============================] - 0s 1ms/step - loss: 0.6276 - accuracy: 0.6890\n",
            "Epoch 38/100\n",
            "77/77 [==============================] - 0s 1ms/step - loss: 0.5566 - accuracy: 0.7268\n",
            "Epoch 39/100\n",
            "77/77 [==============================] - 0s 1ms/step - loss: 0.5319 - accuracy: 0.7490\n",
            "Epoch 40/100\n",
            "77/77 [==============================] - 0s 1ms/step - loss: 0.5386 - accuracy: 0.7569\n",
            "Epoch 41/100\n",
            "77/77 [==============================] - 0s 1ms/step - loss: 0.5366 - accuracy: 0.7382\n",
            "Epoch 42/100\n",
            "77/77 [==============================] - 0s 1ms/step - loss: 0.6065 - accuracy: 0.6991\n",
            "Epoch 43/100\n",
            "77/77 [==============================] - 0s 1ms/step - loss: 0.5606 - accuracy: 0.7111\n",
            "Epoch 44/100\n",
            "77/77 [==============================] - 0s 1ms/step - loss: 0.5392 - accuracy: 0.7364\n",
            "Epoch 45/100\n",
            "77/77 [==============================] - 0s 1ms/step - loss: 0.6727 - accuracy: 0.6945\n",
            "Epoch 46/100\n",
            "77/77 [==============================] - 0s 1ms/step - loss: 0.5221 - accuracy: 0.7269\n",
            "Epoch 47/100\n",
            "77/77 [==============================] - 0s 1ms/step - loss: 0.5426 - accuracy: 0.7030\n",
            "Epoch 48/100\n",
            "77/77 [==============================] - 0s 1ms/step - loss: 0.5292 - accuracy: 0.7397\n",
            "Epoch 49/100\n",
            "77/77 [==============================] - 0s 1ms/step - loss: 0.5771 - accuracy: 0.6851\n",
            "Epoch 50/100\n",
            "77/77 [==============================] - 0s 1ms/step - loss: 0.6068 - accuracy: 0.7276\n",
            "Epoch 51/100\n",
            "77/77 [==============================] - 0s 1ms/step - loss: 0.5597 - accuracy: 0.7202\n",
            "Epoch 52/100\n",
            "77/77 [==============================] - 0s 1ms/step - loss: 0.5583 - accuracy: 0.7550\n",
            "Epoch 53/100\n",
            "77/77 [==============================] - 0s 1ms/step - loss: 0.5531 - accuracy: 0.7395\n",
            "Epoch 54/100\n",
            "77/77 [==============================] - 0s 1ms/step - loss: 0.5405 - accuracy: 0.7537\n",
            "Epoch 55/100\n",
            "77/77 [==============================] - 0s 1ms/step - loss: 0.5869 - accuracy: 0.7119\n",
            "Epoch 56/100\n",
            "77/77 [==============================] - 0s 1ms/step - loss: 0.5579 - accuracy: 0.7305\n",
            "Epoch 57/100\n",
            "77/77 [==============================] - 0s 1ms/step - loss: 0.5584 - accuracy: 0.7098\n",
            "Epoch 58/100\n",
            "77/77 [==============================] - 0s 1ms/step - loss: 0.5284 - accuracy: 0.7379\n",
            "Epoch 59/100\n",
            "77/77 [==============================] - 0s 1ms/step - loss: 0.6107 - accuracy: 0.6917\n",
            "Epoch 60/100\n",
            "77/77 [==============================] - 0s 1ms/step - loss: 0.5862 - accuracy: 0.7146\n",
            "Epoch 61/100\n",
            "77/77 [==============================] - 0s 1ms/step - loss: 0.5106 - accuracy: 0.7403\n",
            "Epoch 62/100\n",
            "77/77 [==============================] - 0s 1ms/step - loss: 0.4983 - accuracy: 0.7743\n",
            "Epoch 63/100\n",
            "77/77 [==============================] - 0s 1ms/step - loss: 0.5015 - accuracy: 0.7322\n",
            "Epoch 64/100\n",
            "77/77 [==============================] - 0s 1ms/step - loss: 0.5112 - accuracy: 0.7551\n",
            "Epoch 65/100\n",
            "77/77 [==============================] - 0s 1ms/step - loss: 0.5289 - accuracy: 0.7540\n",
            "Epoch 66/100\n",
            "77/77 [==============================] - 0s 1ms/step - loss: 0.5216 - accuracy: 0.7430\n",
            "Epoch 67/100\n",
            "77/77 [==============================] - 0s 1ms/step - loss: 0.5806 - accuracy: 0.7149\n",
            "Epoch 68/100\n",
            "77/77 [==============================] - 0s 1ms/step - loss: 0.5087 - accuracy: 0.7423\n",
            "Epoch 69/100\n",
            "77/77 [==============================] - 0s 1ms/step - loss: 0.6296 - accuracy: 0.7116\n",
            "Epoch 70/100\n",
            "77/77 [==============================] - 0s 1ms/step - loss: 0.5141 - accuracy: 0.7835\n",
            "Epoch 71/100\n",
            "77/77 [==============================] - 0s 1ms/step - loss: 0.5620 - accuracy: 0.7120\n",
            "Epoch 72/100\n",
            "77/77 [==============================] - 0s 1ms/step - loss: 0.5167 - accuracy: 0.7521\n",
            "Epoch 73/100\n",
            "77/77 [==============================] - 0s 1ms/step - loss: 0.5483 - accuracy: 0.7603\n",
            "Epoch 74/100\n",
            "77/77 [==============================] - 0s 1ms/step - loss: 0.5353 - accuracy: 0.7556\n",
            "Epoch 75/100\n",
            "77/77 [==============================] - 0s 1ms/step - loss: 0.5226 - accuracy: 0.7390\n",
            "Epoch 76/100\n",
            "77/77 [==============================] - 0s 1ms/step - loss: 0.5614 - accuracy: 0.7377\n",
            "Epoch 77/100\n",
            "77/77 [==============================] - 0s 1ms/step - loss: 0.5201 - accuracy: 0.7271\n",
            "Epoch 78/100\n",
            "77/77 [==============================] - 0s 1ms/step - loss: 0.5097 - accuracy: 0.7590\n",
            "Epoch 79/100\n",
            "77/77 [==============================] - 0s 1ms/step - loss: 0.5363 - accuracy: 0.7562\n",
            "Epoch 80/100\n",
            "77/77 [==============================] - 0s 1ms/step - loss: 0.5114 - accuracy: 0.7605\n",
            "Epoch 81/100\n",
            "77/77 [==============================] - 0s 1ms/step - loss: 0.5181 - accuracy: 0.7479\n",
            "Epoch 82/100\n",
            "77/77 [==============================] - 0s 1ms/step - loss: 0.4934 - accuracy: 0.7725\n",
            "Epoch 83/100\n",
            "77/77 [==============================] - 0s 1ms/step - loss: 0.5114 - accuracy: 0.7535\n",
            "Epoch 84/100\n",
            "77/77 [==============================] - 0s 1ms/step - loss: 0.5553 - accuracy: 0.7291\n",
            "Epoch 85/100\n",
            "77/77 [==============================] - 0s 1ms/step - loss: 0.5345 - accuracy: 0.7458\n",
            "Epoch 86/100\n",
            "77/77 [==============================] - 0s 1ms/step - loss: 0.5169 - accuracy: 0.7395\n",
            "Epoch 87/100\n",
            "77/77 [==============================] - 0s 1ms/step - loss: 0.5082 - accuracy: 0.7646\n",
            "Epoch 88/100\n",
            "77/77 [==============================] - 0s 1ms/step - loss: 0.5329 - accuracy: 0.7407\n",
            "Epoch 89/100\n",
            "77/77 [==============================] - 0s 1ms/step - loss: 0.5266 - accuracy: 0.7346\n",
            "Epoch 90/100\n",
            "77/77 [==============================] - 0s 1ms/step - loss: 0.5249 - accuracy: 0.7381\n",
            "Epoch 91/100\n",
            "77/77 [==============================] - 0s 1ms/step - loss: 0.5233 - accuracy: 0.7474\n",
            "Epoch 92/100\n",
            "77/77 [==============================] - 0s 1ms/step - loss: 0.4972 - accuracy: 0.7574\n",
            "Epoch 93/100\n",
            "77/77 [==============================] - 0s 1ms/step - loss: 0.5687 - accuracy: 0.7448\n",
            "Epoch 94/100\n",
            "77/77 [==============================] - 0s 1ms/step - loss: 0.4955 - accuracy: 0.7787\n",
            "Epoch 95/100\n",
            "77/77 [==============================] - 0s 1ms/step - loss: 0.4695 - accuracy: 0.7783\n",
            "Epoch 96/100\n",
            "77/77 [==============================] - 0s 1ms/step - loss: 0.5433 - accuracy: 0.7378\n",
            "Epoch 97/100\n",
            "77/77 [==============================] - 0s 1ms/step - loss: 0.4841 - accuracy: 0.7720\n",
            "Epoch 98/100\n",
            "77/77 [==============================] - 0s 1ms/step - loss: 0.5195 - accuracy: 0.7242\n",
            "Epoch 99/100\n",
            "77/77 [==============================] - 0s 2ms/step - loss: 0.4688 - accuracy: 0.7837\n",
            "Epoch 100/100\n",
            "77/77 [==============================] - 0s 1ms/step - loss: 0.5074 - accuracy: 0.7525\n"
          ],
          "name": "stdout"
        },
        {
          "output_type": "execute_result",
          "data": {
            "text/plain": [
              "<tensorflow.python.keras.callbacks.History at 0x7f9a552364a8>"
            ]
          },
          "metadata": {
            "tags": []
          },
          "execution_count": 12
        }
      ]
    },
    {
      "cell_type": "code",
      "metadata": {
        "colab": {
          "base_uri": "https://localhost:8080/"
        },
        "id": "oVwmWloNRImS",
        "outputId": "572b3b6f-33b0-48a2-bdba-c3b954567b39"
      },
      "source": [
        "# evaluate the model\n",
        "scores = model.evaluate(X, Y)\n",
        "print(\"\\n%s: %.2f%%\" % (model.metrics_names[1], scores[1]*100))\n",
        "print(scores)"
      ],
      "execution_count": 13,
      "outputs": [
        {
          "output_type": "stream",
          "text": [
            "24/24 [==============================] - 0s 988us/step - loss: 0.4828 - accuracy: 0.7656\n",
            "\n",
            "accuracy: 76.56%\n",
            "[0.4827633798122406, 0.765625]\n"
          ],
          "name": "stdout"
        }
      ]
    },
    {
      "cell_type": "code",
      "metadata": {
        "id": "c2Ig-CeBRImT"
      },
      "source": [
        "row1 = [6,148,72,35,0,33.6,0.627,50] # output =1\n",
        "row2 = [1,85,66,29,0,26.6,0.351,31] # output = 0\n",
        "row3 = [8,183,64,0,0,23.3,0.672,32] # output = 1\n",
        "row4 = [1,89,66,23,94,28.1,0.167,21] # output = 0\n",
        "row5 = [0,137,40,35,168,43.1,2.288,33] # output = 1\n",
        "five_rows = numpy.array([row1,row2,row3,row4,row5])"
      ],
      "execution_count": 14,
      "outputs": []
    },
    {
      "cell_type": "code",
      "metadata": {
        "colab": {
          "base_uri": "https://localhost:8080/"
        },
        "id": "CCWOCXR4RImT",
        "outputId": "142990f5-7753-43f5-be26-c9849903b695"
      },
      "source": [
        "model.predict(five_rows, batch_size=5)"
      ],
      "execution_count": 15,
      "outputs": [
        {
          "output_type": "execute_result",
          "data": {
            "text/plain": [
              "array([[0.7429754 ],\n",
              "       [0.09597629],\n",
              "       [0.966216  ],\n",
              "       [0.08568591],\n",
              "       [0.67667097]], dtype=float32)"
            ]
          },
          "metadata": {
            "tags": []
          },
          "execution_count": 15
        }
      ]
    },
    {
      "cell_type": "code",
      "metadata": {
        "id": "V_whwXJyRImU"
      },
      "source": [
        ""
      ],
      "execution_count": null,
      "outputs": []
    }
  ]
}